{
 "cells": [
  {
   "cell_type": "code",
   "execution_count": 4,
   "metadata": {},
   "outputs": [
    {
     "name": "stdout",
     "output_type": "stream",
     "text": [
      "Finished renaming images and creating training_labels.csv.\n"
     ]
    }
   ],
   "source": [
    "import os\n",
    "import csv\n",
    "\n",
    "# Define the folder path containing flower subfolders\n",
    "folder_path = \"/Users/hawkety77/School Projects/STAT486/ScrapeFlowers\"  # Replace with your actual path\n",
    "\n",
    "# Define CSV file details\n",
    "csv_filename = \"training_labels.csv\"\n",
    "\n",
    "# Initialize empty list for CSV data\n",
    "csv_data = []\n",
    "\n",
    "\n",
    "def rename_and_create_csv(folder_name):\n",
    "  \"\"\"\n",
    "  Renames images in a folder and creates CSV entries for each image.\n",
    "\n",
    "  Args:\n",
    "    folder_name: Name of the subfolder containing images.\n",
    "  \"\"\"\n",
    "  image_count = 1\n",
    "\n",
    "  for filename in os.listdir(os.path.join(folder_path, folder_name)):\n",
    "    # Extract the extension (e.g., .jpg)\n",
    "    extension = os.path.splitext(filename)[1].lower()\n",
    "\n",
    "    # Check if it's a valid image file\n",
    "    if extension in (\".jpg\", \".jpeg\", \".png\"):\n",
    "      # Create new filename with format Ty_{flower}_{i}.{extension}\n",
    "      new_filename = f\"Ty_{folder_name}_{image_count}{extension}\"\n",
    "      \n",
    "      # Build CSV entry\n",
    "      csv_data.append({\"ID\": new_filename, \"target\": folder_name})\n",
    "\n",
    "      # Rename the image file\n",
    "      os.rename(\n",
    "          os.path.join(folder_path, folder_name, filename),\n",
    "          os.path.join(folder_path, folder_name, new_filename),\n",
    "      )\n",
    "      image_count += 1\n",
    "\n",
    "\n",
    "# Loop through each flower folder\n",
    "for folder in os.listdir(folder_path):\n",
    "  if os.path.isdir(os.path.join(folder_path, folder)):\n",
    "    rename_and_create_csv(folder)\n",
    "\n",
    "# Write all CSV data to file at once\n",
    "with open(os.path.join(folder_path, csv_filename), \"w\", newline=\"\") as csvfile:\n",
    "  writer = csv.DictWriter(csvfile, fieldnames=[\"ID\", \"target\"])\n",
    "  writer.writeheader()\n",
    "  writer.writerows(csv_data)\n",
    "\n",
    "print(f\"Finished renaming images and creating {csv_filename}.\")"
   ]
  },
  {
   "cell_type": "code",
   "execution_count": 2,
   "metadata": {},
   "outputs": [
    {
     "name": "stdout",
     "output_type": "stream",
     "text": [
      "Images resized successfully!\n"
     ]
    }
   ],
   "source": [
    "from PIL import Image\n",
    "import os\n",
    "\n",
    "def resize_images(input_dir, output_dir=None):\n",
    "  \"\"\"\n",
    "  Resizes all images in a directory and optionally saves them to a new directory.\n",
    "\n",
    "  Args:\n",
    "    input_dir: Path to the directory containing the images.\n",
    "    output_dir (optional): Path to the directory where resized images are saved.\n",
    "      If not provided, images are resized in-place.\n",
    "  \"\"\"\n",
    "  for root, _, files in os.walk(input_dir):\n",
    "    for filename in files:\n",
    "      # Check for image extensions\n",
    "      if filename.lower().endswith((\".jpg\", \".jpeg\", \".png\")):\n",
    "        filepath = os.path.join(root, filename)\n",
    "        img = Image.open(filepath)\n",
    "        \n",
    "        # Preserve aspect ratio for resizing\n",
    "        resized_img = img.resize((224, 224), Image.LANCZOS)\n",
    "        \n",
    "        if output_dir:\n",
    "          # Create output directory if it doesn't exist\n",
    "          os.makedirs(output_dir, exist_ok=True)\n",
    "          output_path = os.path.join(output_dir, filename)\n",
    "        else:\n",
    "          output_path = filepath\n",
    "        \n",
    "        resized_img.save(output_path)\n",
    "\n",
    "# Example usage\n",
    "input_dir = \"/Users/hawkety77/School Projects/STAT486/ScrapeFlowers\"\n",
    "# Optional: Specify output directory (resized images won't overwrite originals)\n",
    "# output_dir = \"/path/to/save/resized/images\"\n",
    "\n",
    "resize_images(input_dir)\n",
    "print(\"Images resized successfully!\")"
   ]
  }
 ],
 "metadata": {
  "kernelspec": {
   "display_name": "Python 3",
   "language": "python",
   "name": "python3"
  },
  "language_info": {
   "codemirror_mode": {
    "name": "ipython",
    "version": 3
   },
   "file_extension": ".py",
   "mimetype": "text/x-python",
   "name": "python",
   "nbconvert_exporter": "python",
   "pygments_lexer": "ipython3",
   "version": "3.11.1"
  }
 },
 "nbformat": 4,
 "nbformat_minor": 2
}
